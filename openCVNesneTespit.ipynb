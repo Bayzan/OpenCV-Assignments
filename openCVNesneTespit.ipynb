{
 "cells": [
  {
   "cell_type": "code",
   "execution_count": 3,
   "id": "da06d612-7da8-477c-9dfd-a2389ab0bfe8",
   "metadata": {},
   "outputs": [
    {
     "name": "stderr",
     "output_type": "stream",
     "text": [
      "OpenCV: out device of bound (0-0): 2\n",
      "OpenCV: camera failed to properly initialize!\n",
      "[ WARN:0@12.022] global cap.cpp:480 open VIDEOIO(AVFOUNDATION): backend is generally available but can't be used to capture by index\n"
     ]
    }
   ],
   "source": [
    "import numpy as np\n",
    "import cv2\n",
    "\n",
    "def nothing(x):\n",
    "    pass\n",
    "\n",
    "cv2.namedWindow(\"frame\")\n",
    "cv2.createTrackbar(\"H1\", \"frame\", 0, 179, nothing)  # Hue için doğru aralık: 0-179\n",
    "cv2.createTrackbar(\"H2\", \"frame\", 0, 179, nothing)\n",
    "cv2.createTrackbar(\"S1\", \"frame\", 0, 255, nothing)\n",
    "cv2.createTrackbar(\"S2\", \"frame\", 0, 255, nothing)\n",
    "cv2.createTrackbar(\"V1\", \"frame\", 0, 255, nothing)\n",
    "cv2.createTrackbar(\"V2\", \"frame\", 0, 255, nothing)\n",
    "\n",
    "cam = cv2.VideoCapture(2,cv2.CAP_AVFOUNDATION)\n",
    "\n",
    "while cam.isOpened():\n",
    "    ret, frame = cam.read()\n",
    "    if not ret:\n",
    "        print(\"Kameradan görüntü alınamıyor.\")\n",
    "        break\n",
    "    \n",
    "    hsv = cv2.cvtColor(frame, cv2.COLOR_BGR2HSV)\n",
    "    \n",
    "    H1 = cv2.getTrackbarPos(\"H1\", \"frame\")\n",
    "    H2 = cv2.getTrackbarPos(\"H2\", \"frame\")\n",
    "    S1 = cv2.getTrackbarPos(\"S1\", \"frame\")\n",
    "    S2 = cv2.getTrackbarPos(\"S2\", \"frame\")\n",
    "    V1 = cv2.getTrackbarPos(\"V1\", \"frame\")\n",
    "    V2 = cv2.getTrackbarPos(\"V2\", \"frame\")\n",
    "    \n",
    "    lower = np.array([H1, S1, V1])\n",
    "    upper = np.array([H2, S2, V2])\n",
    "    \n",
    "    mask = cv2.inRange(hsv, lower, upper)\n",
    "    res = cv2.bitwise_and(frame, frame, mask=mask)\n",
    "    \n",
    "    # Konturları bul\n",
    "    contours, _ = cv2.findContours(mask, cv2.RETR_TREE, cv2.CHAIN_APPROX_SIMPLE)\n",
    "    \n",
    "    # Konturları analiz et\n",
    "    for contour in contours:\n",
    "        if cv2.contourArea(contour) > 500:  # Alan filtresi\n",
    "            x, y, w, h = cv2.boundingRect(contour)\n",
    "            cv2.rectangle(frame, (x, y), (x + w, y + h), (0, 255, 0), 2)\n",
    "            # Merkeze bir daire çiz\n",
    "            cx = int(x + w / 2)\n",
    "            cy = int(y + h / 2)\n",
    "            cv2.circle(frame, (cx, cy), 5, (255, 0, 0), -1)\n",
    "    \n",
    "    cv2.imshow(\"frame\", frame)\n",
    "    cv2.imshow(\"mask\", mask)\n",
    "    cv2.imshow(\"res\", res)\n",
    "    \n",
    "    if cv2.waitKey(1) == ord('q'):\n",
    "        break\n",
    "\n",
    "cam.release()\n",
    "cv2.destroyAllWindows()"
   ]
  },
  {
   "cell_type": "code",
   "execution_count": null,
   "id": "faea49e0-4c4f-4aa1-8e25-9993455d1785",
   "metadata": {},
   "outputs": [],
   "source": []
  }
 ],
 "metadata": {
  "kernelspec": {
   "display_name": "Python [conda env:base] *",
   "language": "python",
   "name": "conda-base-py"
  },
  "language_info": {
   "codemirror_mode": {
    "name": "ipython",
    "version": 3
   },
   "file_extension": ".py",
   "mimetype": "text/x-python",
   "name": "python",
   "nbconvert_exporter": "python",
   "pygments_lexer": "ipython3",
   "version": "3.12.7"
  }
 },
 "nbformat": 4,
 "nbformat_minor": 5
}
